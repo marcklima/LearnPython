{
  "nbformat": 4,
  "nbformat_minor": 0,
  "metadata": {
    "colab": {
      "name": "aposta mega sena",
      "provenance": [],
      "collapsed_sections": [],
      "mount_file_id": "1v2f6f-P8BDscsRxXO1l_2tNGt5HZJ7lP",
      "authorship_tag": "ABX9TyMLWlb7EDUQn12cWGmCErJM",
      "include_colab_link": true
    },
    "kernelspec": {
      "name": "python3",
      "display_name": "Python 3"
    }
  },
  "cells": [
    {
      "cell_type": "markdown",
      "metadata": {
        "id": "view-in-github",
        "colab_type": "text"
      },
      "source": [
        "<a href=\"https://colab.research.google.com/github/marcklima/LearnPython/blob/master/aposta_mega_sena.ipynb\" target=\"_parent\"><img src=\"https://colab.research.google.com/assets/colab-badge.svg\" alt=\"Open In Colab\"/></a>"
      ]
    },
    {
      "cell_type": "code",
      "metadata": {
        "id": "gwW6UXlfynYJ",
        "colab_type": "code",
        "colab": {
          "base_uri": "https://localhost:8080/",
          "height": 34
        },
        "outputId": "4e7bfa82-08ab-4c9b-e1fb-760f88a39862"
      },
      "source": [
        "jogo=[1,10,20,30,40,50,60]\n",
        "jogo.pop() #exclui o ultimo indice da lista\n",
        "print(len(jogo))"
      ],
      "execution_count": 65,
      "outputs": [
        {
          "output_type": "stream",
          "text": [
            "6\n"
          ],
          "name": "stdout"
        }
      ]
    },
    {
      "cell_type": "code",
      "metadata": {
        "id": "hf4hX_hP4EVN",
        "colab_type": "code",
        "colab": {
          "base_uri": "https://localhost:8080/",
          "height": 34
        },
        "outputId": "03a7ea6b-26d4-4dbd-be88-2d6dfc493131"
      },
      "source": [
        "import random\n",
        "jogo[0]=random.randrange(2,7)\n",
        "jogo[1]=random.randrange(10,19)\n",
        "jogo[2]=random.randrange(20,25)\n",
        "jogo[3]=random.randrange(26,29)\n",
        "jogo[4]=random.randrange(30,35)\n",
        "jogo[5]=random.randrange(36,39)\n",
        "print(jogo)"
      ],
      "execution_count": 66,
      "outputs": [
        {
          "output_type": "stream",
          "text": [
            "[4, 18, 20, 28, 34, 38]\n"
          ],
          "name": "stdout"
        }
      ]
    }
  ]
}