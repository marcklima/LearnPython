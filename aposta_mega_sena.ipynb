{
  "nbformat": 4,
  "nbformat_minor": 0,
  "metadata": {
    "colab": {
      "name": "aposta mega sena",
      "provenance": [],
      "collapsed_sections": [],
      "toc_visible": true,
      "mount_file_id": "1v2f6f-P8BDscsRxXO1l_2tNGt5HZJ7lP",
      "authorship_tag": "ABX9TyPm7rfRvR/jAtzmfBjtk0fr",
      "include_colab_link": true
    },
    "kernelspec": {
      "name": "python3",
      "display_name": "Python 3"
    }
  },
  "cells": [
    {
      "cell_type": "markdown",
      "metadata": {
        "id": "view-in-github",
        "colab_type": "text"
      },
      "source": [
        "<a href=\"https://colab.research.google.com/github/marcklima/LearnPython/blob/master/aposta_mega_sena.ipynb\" target=\"_parent\"><img src=\"https://colab.research.google.com/assets/colab-badge.svg\" alt=\"Open In Colab\"/></a>"
      ]
    },
    {
      "cell_type": "code",
      "metadata": {
        "id": "gwW6UXlfynYJ",
        "colab_type": "code",
        "colab": {
          "base_uri": "https://localhost:8080/",
          "height": 34
        },
        "outputId": "4e7bfa82-08ab-4c9b-e1fb-760f88a39862"
      },
      "source": [
        "jogo=[1,10,20,30,40,50,60]\n",
        "jogo.pop() #exclui o ultimo indice da lista\n",
        "print(len(jogo))"
      ],
      "execution_count": 65,
      "outputs": [
        {
          "output_type": "stream",
          "text": [
            "6\n"
          ],
          "name": "stdout"
        }
      ]
    },
    {
      "cell_type": "code",
      "metadata": {
        "id": "hf4hX_hP4EVN",
        "colab_type": "code",
        "colab": {
          "base_uri": "https://localhost:8080/",
          "height": 34
        },
        "outputId": "9d3373fa-085d-42c6-c81c-56121de3768e"
      },
      "source": [
        "\n",
        "# https://www.somatematica.com.br/megasenaVerifica.php\n",
        "import random\n",
        "jogo[0]=random.randrange(5,9)\n",
        "jogo[1]=random.randrange(10,19)\n",
        "jogo[2]=random.randrange(20,25)\n",
        "jogo[3]=random.randrange(26,29)\n",
        "jogo[4]=random.randrange(30,39)\n",
        "jogo[5]=random.randrange(41,49)\n",
        "print(jogo)"
      ],
      "execution_count": 75,
      "outputs": [
        {
          "output_type": "stream",
          "text": [
            "[6, 14, 24, 28, 31, 43]\n"
          ],
          "name": "stdout"
        }
      ]
    },
    {
      "cell_type": "code",
      "metadata": {
        "id": "LAEH3bW3_jGw",
        "colab_type": "code",
        "colab": {
          "base_uri": "https://localhost:8080/",
          "height": 34
        },
        "outputId": "ff365792-d6b3-48e6-d782-c7012e4d9613"
      },
      "source": [
        "import random\n",
        "aposta=[0]\n",
        "aposta[0]=random.randrange(1,60)\n",
        "listta=len(aposta)\n",
        "while listta <=5 :\n",
        "  aposta.append(random.randrange(1,60))\n",
        "  listta=listta+1\n",
        "print(aposta.sort())\n",
        "  \n"
      ],
      "execution_count": 86,
      "outputs": [
        {
          "output_type": "stream",
          "text": [
            "None\n"
          ],
          "name": "stdout"
        }
      ]
    },
    {
      "cell_type": "code",
      "metadata": {
        "id": "fcRJtMC8FPM5",
        "colab_type": "code",
        "colab": {
          "base_uri": "https://localhost:8080/",
          "height": 68
        },
        "outputId": "01103107-fdf4-4a77-ad78-60d48af4d06b"
      },
      "source": [
        "import random\n",
        "# https://pythonhelp.wordpress.com/2014/04/06/ordenacao-de-uma-lista/\n",
        "lista = [1,2,3,4,5,6]\n",
        "lista.append(2.5)\n",
        "random.shuffle(lista)\n",
        "print(lista)\n",
        "lista.sort()\n",
        "lista.reverse()\n",
        "lista.append([2,4,7,8,4])\n",
        "print(lista)\n",
        "lista.extend([4,5,8,7])\n",
        "print(lista)\n",
        "\n"
      ],
      "execution_count": 129,
      "outputs": [
        {
          "output_type": "stream",
          "text": [
            "[1, 6, 2, 5, 2.5, 3, 4]\n",
            "[6, 5, 4, 3, 2.5, 2, 1, [2, 4, 7, 8, 4]]\n",
            "[6, 5, 4, 3, 2.5, 2, 1, [2, 4, 7, 8, 4], 4, 5, 8, 7]\n"
          ],
          "name": "stdout"
        }
      ]
    }
  ]
}