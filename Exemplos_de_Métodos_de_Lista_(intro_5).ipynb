{
  "nbformat": 4,
  "nbformat_minor": 0,
  "metadata": {
    "colab": {
      "name": "Exemplos de Métodos de Lista (intro_5)",
      "provenance": [],
      "collapsed_sections": [],
      "mount_file_id": "1v2f6f-P8BDscsRxXO1l_2tNGt5HZJ7lP",
      "authorship_tag": "ABX9TyPquykQkx7+R8WT+C6V+YuY",
      "include_colab_link": true
    },
    "kernelspec": {
      "name": "python3",
      "display_name": "Python 3"
    }
  },
  "cells": [
    {
      "cell_type": "markdown",
      "metadata": {
        "id": "view-in-github",
        "colab_type": "text"
      },
      "source": [
        "<a href=\"https://colab.research.google.com/github/marcklima/LearnPython/blob/master/Exemplos_de_M%C3%A9todos_de_Lista_(intro_5).ipynb\" target=\"_parent\"><img src=\"https://colab.research.google.com/assets/colab-badge.svg\" alt=\"Open In Colab\"/></a>"
      ]
    },
    {
      "cell_type": "code",
      "metadata": {
        "id": "UIkegZ6wLRMB",
        "colab_type": "code",
        "outputId": "ef42b3c7-e16b-45cf-fa09-f9eb52277cdf",
        "colab": {
          "base_uri": "https://localhost:8080/",
          "height": 306
        }
      },
      "source": [
        "# https://panda.ime.usp.br/pythonds/static/pythonds_pt/01-Introducao/08-pegandoDados.html\n",
        "# http://www.devfuria.com.br/python/strings/\n",
        "import random\n",
        "nome='marcelo'\n",
        "minhaListax = [1024, 3, True, 6.5]\n",
        "primeiro_da_lista=minhaListax[0]\n",
        "ultimo_da_lista=minhaListax[-1]\n",
        "print(ultimo_da_lista == primeiro_da_lista)\n",
        "print(minhaListax.pop(3))\n",
        "print(len(minhaListax))\n",
        "print('<<<........................................................>>>')\n",
        "print('lista antes do metodo append: ',minhaListax)\n",
        "minhaListax.append('marcelo')\n",
        "print('lista recebe um novo item com ometoo append', minhaListax)\n",
        "print('<<<........................................................>>>')\n",
        "tam_lista=len(minhaListax)\n",
        "print(tam_lista)\n",
        "while tam_lista <= 10:\n",
        "  tam_lista=len(minhaListax)\n",
        "  valor = random.randrange(0, tam_lista)\n",
        "  minhaListax.append(valor)\n",
        "  print('o tamanho atual e: ',tam_lista,' e a lista tual e: ', minhaListax)\n",
        "print(minhaListax)"
      ],
      "execution_count": 62,
      "outputs": [
        {
          "output_type": "stream",
          "text": [
            "False\n",
            "6.5\n",
            "3\n",
            "<<<........................................................>>>\n",
            "lista antes do metodo append:  [1024, 3, True]\n",
            "lista recebe um novo item com ometoo append [1024, 3, True, 'marcelo']\n",
            "<<<........................................................>>>\n",
            "4\n",
            "o tamanho atual e:  4  e a lista tual e:  [1024, 3, True, 'marcelo', 3]\n",
            "o tamanho atual e:  5  e a lista tual e:  [1024, 3, True, 'marcelo', 3, 0]\n",
            "o tamanho atual e:  6  e a lista tual e:  [1024, 3, True, 'marcelo', 3, 0, 3]\n",
            "o tamanho atual e:  7  e a lista tual e:  [1024, 3, True, 'marcelo', 3, 0, 3, 3]\n",
            "o tamanho atual e:  8  e a lista tual e:  [1024, 3, True, 'marcelo', 3, 0, 3, 3, 4]\n",
            "o tamanho atual e:  9  e a lista tual e:  [1024, 3, True, 'marcelo', 3, 0, 3, 3, 4, 5]\n",
            "o tamanho atual e:  10  e a lista tual e:  [1024, 3, True, 'marcelo', 3, 0, 3, 3, 4, 5, 6]\n",
            "o tamanho atual e:  11  e a lista tual e:  [1024, 3, True, 'marcelo', 3, 0, 3, 3, 4, 5, 6, 0]\n",
            "[1024, 3, True, 'marcelo', 3, 0, 3, 3, 4, 5, 6, 0]\n"
          ],
          "name": "stdout"
        }
      ]
    },
    {
      "cell_type": "code",
      "metadata": {
        "id": "fMRqDP7ZuQ_r",
        "colab_type": "code",
        "colab": {}
      },
      "source": [
        "# https://www.caelum.com.br/apostila-python-orientacao-objetos/funcoes/#nmero-arbitrrio-de-parmetros-args\n",
        "def velocidade(espaco, tempo):\n",
        "        v = espaco/tempo\n",
        "        print('velocidade: {} m/s'.format(v))\n",
        "\n",
        "        "
      ],
      "execution_count": 0,
      "outputs": []
    }
  ]
}