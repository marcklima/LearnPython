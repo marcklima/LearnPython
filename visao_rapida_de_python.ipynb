{
  "nbformat": 4,
  "nbformat_minor": 0,
  "metadata": {
    "colab": {
      "name": "visao rapida de python",
      "provenance": [],
      "authorship_tag": "ABX9TyNLiXWgG007EbVdgCQEW93I",
      "include_colab_link": true
    },
    "kernelspec": {
      "name": "python3",
      "display_name": "Python 3"
    }
  },
  "cells": [
    {
      "cell_type": "markdown",
      "metadata": {
        "id": "view-in-github",
        "colab_type": "text"
      },
      "source": [
        "<a href=\"https://colab.research.google.com/github/marcklima/LearnPython/blob/master/visao_rapida_de_python.ipynb\" target=\"_parent\"><img src=\"https://colab.research.google.com/assets/colab-badge.svg\" alt=\"Open In Colab\"/></a>"
      ]
    },
    {
      "cell_type": "code",
      "metadata": {
        "id": "v8mvTPTUZt_s",
        "colab_type": "code",
        "outputId": "1563f4fa-67ed-4b56-c794-59838966c17b",
        "colab": {
          "base_uri": "https://localhost:8080/",
          "height": 34
        }
      },
      "source": [
        "b=10\n",
        "a=b\n",
        "a\n"
      ],
      "execution_count": 0,
      "outputs": [
        {
          "output_type": "execute_result",
          "data": {
            "text/plain": [
              "10"
            ]
          },
          "metadata": {
            "tags": []
          },
          "execution_count": 1
        }
      ]
    },
    {
      "cell_type": "code",
      "metadata": {
        "id": "rfrVzT77Z8g1",
        "colab_type": "code",
        "outputId": "973c662c-de39-465a-98e1-7f9a3c65c446",
        "colab": {
          "base_uri": "https://localhost:8080/",
          "height": 34
        }
      },
      "source": [
        "familia=['marcelo','andreia','cicero']\n",
        "familia[-1\n",
        "        ]\n",
        "\n"
      ],
      "execution_count": 0,
      "outputs": [
        {
          "output_type": "execute_result",
          "data": {
            "text/plain": [
              "'cicero'"
            ]
          },
          "metadata": {
            "tags": []
          },
          "execution_count": 5
        }
      ]
    },
    {
      "cell_type": "code",
      "metadata": {
        "id": "P4nrAiWmv-mK",
        "colab_type": "code",
        "outputId": "f6f54b14-c66b-4d07-a81f-e1ae1c7d384e",
        "colab": {
          "base_uri": "https://localhost:8080/",
          "height": 34
        }
      },
      "source": [
        "cursos=['java','direito','psicologia','natacao']\n",
        "familia[-1]"
      ],
      "execution_count": 0,
      "outputs": [
        {
          "output_type": "execute_result",
          "data": {
            "text/plain": [
              "'cicero'"
            ]
          },
          "metadata": {
            "tags": []
          },
          "execution_count": 8
        }
      ]
    },
    {
      "cell_type": "code",
      "metadata": {
        "id": "DRa_giFBxa9G",
        "colab_type": "code",
        "outputId": "5956a996-7b2a-47c7-af52-f01afe62d9cb",
        "colab": {
          "base_uri": "https://localhost:8080/",
          "height": 85
        }
      },
      "source": [
        "lojas=['loja1','loja2','loja3','loja4']\n",
        "empresas=['arcondicionado','bateria',' suspensao','petshop']\n",
        "shopping=[lojas,empresas]\n",
        "print(shopping)\n",
        "print('...seguindo proximo print')\n",
        "print('segue abaixo : \\n  ', shopping[-1])"
      ],
      "execution_count": 0,
      "outputs": [
        {
          "output_type": "stream",
          "text": [
            "[['loja1', 'loja2', 'loja3', 'loja4'], ['arcondicionado', 'bateria', ' suspensao', 'petshop']]\n",
            "...seguindo proximo print\n",
            "segue abaixo : \n",
            "   ['arcondicionado', 'bateria', ' suspensao', 'petshop']\n"
          ],
          "name": "stdout"
        }
      ]
    },
    {
      "cell_type": "code",
      "metadata": {
        "id": "CwrFuyO07I0J",
        "colab_type": "code",
        "outputId": "c114441e-9420-4182-9eaf-d6e4fbdb3b3a",
        "colab": {
          "base_uri": "https://localhost:8080/",
          "height": 34
        }
      },
      "source": [
        "dados ={'nome':'marcelo','cidade':'fortaleza', 'conjuge':'eliene'}\n",
        "dados"
      ],
      "execution_count": 2,
      "outputs": [
        {
          "output_type": "execute_result",
          "data": {
            "text/plain": [
              "{'cidade': 'fortaleza', 'conjuge': 'eliene', 'nome': 'marcelo'}"
            ]
          },
          "metadata": {
            "tags": []
          },
          "execution_count": 2
        }
      ]
    },
    {
      "cell_type": "code",
      "metadata": {
        "id": "XvFfdzjYugJ5",
        "colab_type": "code",
        "colab": {
          "base_uri": "https://localhost:8080/",
          "height": 34
        },
        "outputId": "9f6d735c-536d-41de-9bdc-1e32e93ba9e1"
      },
      "source": [
        "import random\n",
        "x='Get the character at position 1 (remember that the first character has the position '\n",
        "y=len(x)\n",
        "print(random.randrange(0,y))\n"
      ],
      "execution_count": 10,
      "outputs": [
        {
          "output_type": "stream",
          "text": [
            "19\n"
          ],
          "name": "stdout"
        }
      ]
    }
  ]
}