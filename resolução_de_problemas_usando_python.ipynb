{
  "nbformat": 4,
  "nbformat_minor": 0,
  "metadata": {
    "colab": {
      "name": "resolução de problemas usando python",
      "provenance": [],
      "collapsed_sections": [],
      "mount_file_id": "1v2f6f-P8BDscsRxXO1l_2tNGt5HZJ7lP",
      "authorship_tag": "ABX9TyOrCT7Kx2dhX/Q1VHPuQjb5",
      "include_colab_link": true
    },
    "kernelspec": {
      "name": "python3",
      "display_name": "Python 3"
    }
  },
  "cells": [
    {
      "cell_type": "markdown",
      "metadata": {
        "id": "view-in-github",
        "colab_type": "text"
      },
      "source": [
        "<a href=\"https://colab.research.google.com/github/marcklima/LearnPython/blob/master/resolu%C3%A7%C3%A3o_de_problemas_usando_python.ipynb\" target=\"_parent\"><img src=\"https://colab.research.google.com/assets/colab-badge.svg\" alt=\"Open In Colab\"/></a>"
      ]
    },
    {
      "cell_type": "code",
      "metadata": {
        "id": "2g6D3sGKY9Pj",
        "colab_type": "code",
        "outputId": "f2068f69-210e-4a16-91f7-0163c049e221",
        "colab": {
          "base_uri": "https://localhost:8080/",
          "height": 85
        }
      },
      "source": [
        "palavra=input(\"Digite uma palavra aleatória: \")\n",
        "total_de_letras=len(palavra)\n",
        "print ('a palvra digitada possui %d letras' %total_de_letras)\n",
        "def jogodavelha (x):\n",
        "  ('digite uma letra')\n",
        "  if x in(palavra)\n",
        "\n",
        "type(palavra)"
      ],
      "execution_count": 4,
      "outputs": [
        {
          "output_type": "stream",
          "text": [
            "Digite uma palavra aleatória: eliene\n",
            "a palvra digitada possui 6 letras\n",
            "eliene\n"
          ],
          "name": "stdout"
        },
        {
          "output_type": "execute_result",
          "data": {
            "text/plain": [
              "str"
            ]
          },
          "metadata": {
            "tags": []
          },
          "execution_count": 4
        }
      ]
    },
    {
      "cell_type": "code",
      "metadata": {
        "id": "nMHq0FrG65bf",
        "colab_type": "code",
        "colab": {
          "base_uri": "https://localhost:8080/",
          "height": 1000
        },
        "outputId": "bb916834-dd09-435f-d50d-f8e1bca617cc"
      },
      "source": [
        "\n",
        "# Arquivo: listagem\\capitulo 07\\07.45 - Jogo da forca.py\n",
        "##############################################################################\n",
        "\n",
        "palavra = input(\"Digite a palavra secreta:\").lower().strip()\n",
        "for x in range(100):\n",
        "     print()\n",
        "digitadas = []\n",
        "acertos = []\n",
        "erros = 0\n",
        "while True:\n",
        "     senha = \"\"\n",
        "     for letra in palavra:\n",
        "         senha += letra if letra in acertos else \".\"\n",
        "     print(senha)\n",
        "     if senha == palavra:\n",
        "         print(\"Você acertou!\")\n",
        "         break\n",
        "     tentativa = input(\"\\nDigite uma letra:\").lower().strip()\n",
        "     if tentativa in digitadas:\n",
        "         print(\"Você já tentou esta letra!\")\n",
        "         continue\n",
        "     else:\n",
        "         digitadas += tentativa\n",
        "         if tentativa in palavra:\n",
        "               acertos += tentativa\n",
        "         else:\n",
        "               erros += 1\n",
        "               print(\"Você errou!\")\n",
        "     print(\"X==:==\\nX  :   \")\n",
        "     print(\"X  O   \" if erros >= 1 else \"X\")\n",
        "     linha2 = \"\"\n",
        "     if erros == 2:\n",
        "         linha2 = \"  |   \"\n",
        "     elif erros == 3:\n",
        "         linha2 = \" \\|   \"\n",
        "     elif erros >= 4:\n",
        "         linha2 = \" \\|/ \"\n",
        "     print(\"X%s\" % linha2)\n",
        "     linha3 = \"\"\n",
        "     if erros == 5:\n",
        "         linha3 += \" /     \"\n",
        "     elif erros >= 6:\n",
        "         linha3 += \" / \\ \"\n",
        "     print(\"X%s\" % linha3)\n",
        "     print(\"X\\n===========\")\n",
        "     if erros == 6:\n",
        "         print(\"Enforcado!\")\n",
        "         break"
      ],
      "execution_count": 0,
      "outputs": [
        {
          "output_type": "stream",
          "text": [
            "Digite a palavra secreta:marcelo\n",
            "\n",
            "\n",
            "\n",
            "\n",
            "\n",
            "\n",
            "\n",
            "\n",
            "\n",
            "\n",
            "\n",
            "\n",
            "\n",
            "\n",
            "\n",
            "\n",
            "\n",
            "\n",
            "\n",
            "\n",
            "\n",
            "\n",
            "\n",
            "\n",
            "\n",
            "\n",
            "\n",
            "\n",
            "\n",
            "\n",
            "\n",
            "\n",
            "\n",
            "\n",
            "\n",
            "\n",
            "\n",
            "\n",
            "\n",
            "\n",
            "\n",
            "\n",
            "\n",
            "\n",
            "\n",
            "\n",
            "\n",
            "\n",
            "\n",
            "\n",
            "\n",
            "\n",
            "\n",
            "\n",
            "\n",
            "\n",
            "\n",
            "\n",
            "\n",
            "\n",
            "\n",
            "\n",
            "\n",
            "\n",
            "\n",
            "\n",
            "\n",
            "\n",
            "\n",
            "\n",
            "\n",
            "\n",
            "\n",
            "\n",
            "\n",
            "\n",
            "\n",
            "\n",
            "\n",
            "\n",
            "\n",
            "\n",
            "\n",
            "\n",
            "\n",
            "\n",
            "\n",
            "\n",
            "\n",
            "\n",
            "\n",
            "\n",
            "\n",
            "\n",
            "\n",
            "\n",
            "\n",
            "\n",
            "\n",
            "\n",
            ".......\n"
          ],
          "name": "stdout"
        }
      ]
    }
  ]
}