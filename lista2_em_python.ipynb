{
  "nbformat": 4,
  "nbformat_minor": 0,
  "metadata": {
    "colab": {
      "name": "lista2 em python",
      "provenance": [],
      "collapsed_sections": [],
      "toc_visible": true,
      "mount_file_id": "1v2f6f-P8BDscsRxXO1l_2tNGt5HZJ7lP",
      "authorship_tag": "ABX9TyN7kJl7xlfc2k8p4pp2EiNY",
      "include_colab_link": true
    },
    "kernelspec": {
      "name": "python3",
      "display_name": "Python 3"
    }
  },
  "cells": [
    {
      "cell_type": "markdown",
      "metadata": {
        "id": "view-in-github",
        "colab_type": "text"
      },
      "source": [
        "<a href=\"https://colab.research.google.com/github/marcklima/LearnPython/blob/master/lista2_em_python.ipynb\" target=\"_parent\"><img src=\"https://colab.research.google.com/assets/colab-badge.svg\" alt=\"Open In Colab\"/></a>"
      ]
    },
    {
      "cell_type": "code",
      "metadata": {
        "id": "xM_w5t7bFSXs",
        "colab_type": "code",
        "colab": {
          "base_uri": "https://localhost:8080/",
          "height": 153
        },
        "outputId": "5a017b38-c2bb-4645-ff0b-a3fd3e74d3bd"
      },
      "source": [
        "lista=[1,2,3,4,5,6,7,8,9]\n",
        "livros=['smart', 'codigo da vince', 'pythom']\n",
        "print('o menor valor inteiro da lista é:', min(lista))\n",
        "print('o maior valor inteiro da lista é:',max(lista))\n",
        "print('a soma dos valores inteiro da lista é:',sum(lista))\n",
        "print ('<<<-------fim-------->>>')\n",
        "livros.append('android') #adicionando itam no final da lista\n",
        "livros.insert(2, 'malcon x')\n",
        "print(livros)\n",
        "print('metodo pop removendo e retornando o ultimo item da lista:',livros.pop())\n",
        "print('metodo pop removendo e retornando um item escolhido da lista:',livros.pop(3))\n",
        "print(livros )\n"
      ],
      "execution_count": 96,
      "outputs": [
        {
          "output_type": "stream",
          "text": [
            "o menor valor inteiro da lista é: 1\n",
            "o maior valor inteiro da lista é: 9\n",
            "a soma dos valores inteiro da lista é: 45\n",
            "<<<-------fim-------->>>\n",
            "['smart', 'codigo da vince', 'malcon x', 'pythom', 'android']\n",
            "metodo pop removendo e retornando o ultimo item da lista: android\n",
            "metodo pop removendo e retornando um item escolhido da lista: pythom\n",
            "['smart', 'codigo da vince', 'malcon x']\n"
          ],
          "name": "stdout"
        }
      ]
    },
    {
      "cell_type": "code",
      "metadata": {
        "colab_type": "code",
        "outputId": "1d85d102-b1c0-4220-8932-da6fecedeb4e",
        "id": "1f6aK2NhVHs2",
        "colab": {
          "base_uri": "https://localhost:8080/",
          "height": 255
        }
      },
      "source": [
        "lista=[1,2,3,4,5,6,7,8,9]\n",
        "livros=['smart', 'codigo da vince', 'pythom']\n",
        "print('o menor valor inteiro da lista é:', min(lista))\n",
        "print('o maior valor inteiro da lista é:',max(lista))\n",
        "print('a soma dos valores inteiro da lista é:',sum(lista))\n",
        "print ('<<<-------fim-------->>>')\n",
        "livros.append('android') #adicionando itam no final da lista\n",
        "livros.insert(2, 'malcon x')\n",
        "print(livros)\n",
        "print('metodo pop removendo e retornando o ultimo item da lista:',livros.pop())\n",
        "print('metodo pop removendo e retornando um item escolhido da lista:',livros.pop(3))\n",
        "print(livros )\n",
        "print('')\n",
        "livros.remove('smart')\n",
        "print(livros)\n",
        "print(lista)\n",
        "lista.reverse()\n",
        "print(lista)\n",
        "lista.sort()\n",
        "print(lista)\n",
        "print('metodo count verifica quantas vezes o mesmo item tem na lista:',lista.count(3),' vez(es)')"
      ],
      "execution_count": 107,
      "outputs": [
        {
          "output_type": "stream",
          "text": [
            "o menor valor inteiro da lista é: 1\n",
            "o maior valor inteiro da lista é: 9\n",
            "a soma dos valores inteiro da lista é: 45\n",
            "<<<-------fim-------->>>\n",
            "['smart', 'codigo da vince', 'malcon x', 'pythom', 'android']\n",
            "metodo pop removendo e retornando o ultimo item da lista: android\n",
            "metodo pop removendo e retornando um item escolhido da lista: pythom\n",
            "['smart', 'codigo da vince', 'malcon x']\n",
            "\n",
            "['codigo da vince', 'malcon x']\n",
            "[1, 2, 3, 4, 5, 6, 7, 8, 9]\n",
            "[9, 8, 7, 6, 5, 4, 3, 2, 1]\n",
            "[1, 2, 3, 4, 5, 6, 7, 8, 9]\n",
            "metodo count verifica quantas vezes o mesmo item tem na lista: 1  vez(es)\n"
          ],
          "name": "stdout"
        }
      ]
    }
  ]
}