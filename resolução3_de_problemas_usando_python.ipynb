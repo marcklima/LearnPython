{
  "nbformat": 4,
  "nbformat_minor": 0,
  "metadata": {
    "colab": {
      "name": "resolução3 de problemas usando python",
      "provenance": [],
      "collapsed_sections": [],
      "mount_file_id": "1v2f6f-P8BDscsRxXO1l_2tNGt5HZJ7lP",
      "authorship_tag": "ABX9TyMlt8Yq5NUSTAHerzQgj6i/",
      "include_colab_link": true
    },
    "kernelspec": {
      "name": "python3",
      "display_name": "Python 3"
    }
  },
  "cells": [
    {
      "cell_type": "markdown",
      "metadata": {
        "id": "view-in-github",
        "colab_type": "text"
      },
      "source": [
        "<a href=\"https://colab.research.google.com/github/marcklima/LearnPython/blob/master/resolu%C3%A7%C3%A3o3_de_problemas_usando_python.ipynb\" target=\"_parent\"><img src=\"https://colab.research.google.com/assets/colab-badge.svg\" alt=\"Open In Colab\"/></a>"
      ]
    },
    {
      "cell_type": "code",
      "metadata": {
        "id": "UIkegZ6wLRMB",
        "colab_type": "code",
        "colab": {}
      },
      "source": [
        ""
      ],
      "execution_count": 0,
      "outputs": []
    },
    {
      "cell_type": "code",
      "metadata": {
        "id": "4Z589ATXLJQX",
        "colab_type": "code",
        "colab": {
          "base_uri": "https://localhost:8080/",
          "height": 561
        },
        "outputId": "a80d73f0-9005-4444-b550-1ec4226502f1"
      },
      "source": [
        "# https://panda.ime.usp.br/pythonds/static/pythonds_pt/01-Introducao/08-pegandoDados.html\n",
        "\n",
        "minhaLista = [1024, 3, True, 6.5]\n",
        "minhaListaQ=[1,2,3,4,5,6,7,8,9,10]\n",
        "# TIPOS DE METODOS PARA TRABALHAR COM AS LISTAS\n",
        "minhaLista.append(False)\n",
        "print('metodo append(): \\n adiciona um item no final da lista.\\n exemplo: ', minhaLista)\n",
        "minhaLista.insert(2,4.5)\n",
        "print('metodo insert(): \\n insere o item no local definido.\\n exemplo: ',minhaLista)\n",
        "print(minhaLista.pop())\n",
        "print('metodo pop(): \\n remove e reotrna o ultimo item da lista\\n exemplo: ',minhaLista)\n",
        "print(minhaLista.pop(1))\n",
        "print('metodo pop(i):\\n Remove e retorna o i-ésimo item de uma lista.\\n exemplo',minhaLista)\n",
        "minhaLista.pop(2)\n",
        "print(\"metodo pop()\\n metodo recebendo o numero 2  \",minhaLista)\n",
        "minhaLista.sort()\n",
        "print('metodo sort():\\n modifica uma lista para ficar ordenada.\\n exemplo: +9',minhaLista)\n",
        "minhaLista.reverse()\n",
        "print('metodos reverse():\\n inverte a ordem da lista.\\nexemplo: ',minhaLista)\n",
        "print('metodo count():\\n metodo retorna o numero de ocorencia de item\\n exemplo:',minhaLista.count(6.5))\n",
        "print(minhaLista.index(4.5))\n",
        "minhaLista.remove(6.5)\n",
        "print('metodo remove()):\\n Remove a primeira ocorrência de item:\\n exemplo:',minhaLista)\n",
        "del minhaLista[0]\n",
        "print('metodo del(i):\\n exclui o item da lista\\n exemplo:', minhaLista)"
      ],
      "execution_count": 37,
      "outputs": [
        {
          "output_type": "stream",
          "text": [
            "metodo append(): \n",
            " adiciona um item no final da lista.\n",
            " exemplo:  [1024, 3, True, 6.5, False]\n",
            "metodo insert(): \n",
            " insere o item no local definido.\n",
            " exemplo:  [1024, 3, 4.5, True, 6.5, False]\n",
            "False\n",
            "metodo pop(): \n",
            " remove e reotrna o ultimo item da lista\n",
            " exemplo:  [1024, 3, 4.5, True, 6.5]\n",
            "3\n",
            "metodo pop(i):\n",
            " Remove e retorna o i-ésimo item de uma lista.\n",
            " exemplo [1024, 4.5, True, 6.5]\n",
            "metodo pop()\n",
            " metodo recebendo o numero 2   [1024, 4.5, 6.5]\n",
            "metodo sort():\n",
            " modifica uma lista para ficar ordenada.\n",
            " exemplo: +9 [4.5, 6.5, 1024]\n",
            "metodos reverse():\n",
            " inverte a ordem da lista.\n",
            "exemplo:  [1024, 6.5, 4.5]\n",
            "metodo count():\n",
            " metodo retorna o numero de ocorencia de item\n",
            " exemplo: 1\n",
            "2\n",
            "metodo remove()):\n",
            " Remove a primeira ocorrência de item:\n",
            " exemplo: [1024, 4.5]\n",
            "metodo del(i):\n",
            " exclui o item da lista\n",
            " exemplo: [4.5]\n"
          ],
          "name": "stdout"
        }
      ]
    }
  ]
}