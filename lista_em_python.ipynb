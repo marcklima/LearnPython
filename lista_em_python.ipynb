{
  "nbformat": 4,
  "nbformat_minor": 0,
  "metadata": {
    "colab": {
      "name": "lista em python",
      "provenance": [],
      "collapsed_sections": [],
      "toc_visible": true,
      "mount_file_id": "1v2f6f-P8BDscsRxXO1l_2tNGt5HZJ7lP",
      "authorship_tag": "ABX9TyM1qdrvDD9Xckiz0m9uUCiV",
      "include_colab_link": true
    },
    "kernelspec": {
      "name": "python3",
      "display_name": "Python 3"
    }
  },
  "cells": [
    {
      "cell_type": "markdown",
      "metadata": {
        "id": "view-in-github",
        "colab_type": "text"
      },
      "source": [
        "<a href=\"https://colab.research.google.com/github/marcklima/LearnPython/blob/master/lista_em_python.ipynb\" target=\"_parent\"><img src=\"https://colab.research.google.com/assets/colab-badge.svg\" alt=\"Open In Colab\"/></a>"
      ]
    },
    {
      "cell_type": "code",
      "metadata": {
        "id": "TpkwNYb3UGNB",
        "colab_type": "code",
        "outputId": "25afff55-67e6-4325-f489-5cdab4a4c0f6",
        "colab": {
          "base_uri": "https://localhost:8080/",
          "height": 292
        }
      },
      "source": [
        "a=[1,2,3,4,5,6]\n",
        "b=[7,8,9,10]\n",
        "c=a+b\n",
        "print(\"concatenação de llistas\",c)\n",
        "myList=[1,3,True,False,'nome',2.4,'fim da lista']\n",
        "myList2=myList+myList # concatenação de lista\n",
        "x=myList*3\n",
        "print(myList)\n",
        "print('<<<------------------------------------------->>>')\n",
        "print(\"concatenação de lista: \", myList2)\n",
        "print(x)\n",
        "\n",
        "print(x)\n",
        "print('<<<------------------------------------------->>>')\n",
        "print('<<<------------------------------------------->>>')\n",
        "print('<<<------------------------------------------->>>')\n",
        "print('<<<------------------------------------------->>>')\n",
        "print('<<<------------------------------------------->>>')\n",
        "print('<<<------------------------------------------->>>')\n",
        "print('<<<------------------------------------------->>>')\n",
        "print('<<<------------------------------------------->>>')\n",
        "print('<<<------------------------------------------->>>')"
      ],
      "execution_count": 0,
      "outputs": [
        {
          "output_type": "stream",
          "text": [
            "concatenação de llistas [1, 2, 3, 4, 5, 6, 7, 8, 9, 10]\n",
            "[1, 3, True, False, 'nome', 2.4, 'fim da lista']\n",
            "<<<------------------------------------------->>>\n",
            "concatenação de lista:  [1, 3, True, False, 'nome', 2.4, 'fim da lista', 1, 3, True, False, 'nome', 2.4, 'fim da lista']\n",
            "[1, 3, True, False, 'nome', 2.4, 'fim da lista', 1, 3, True, False, 'nome', 2.4, 'fim da lista', 1, 3, True, False, 'nome', 2.4, 'fim da lista']\n",
            "[1, 3, True, False, 'nome', 2.4, 'fim da lista', 1, 3, True, False, 'nome', 2.4, 'fim da lista', 1, 3, True, False, 'nome', 2.4, 'fim da lista']\n",
            "<<<------------------------------------------->>>\n",
            "<<<------------------------------------------->>>\n",
            "<<<------------------------------------------->>>\n",
            "<<<------------------------------------------->>>\n",
            "<<<------------------------------------------->>>\n",
            "<<<------------------------------------------->>>\n",
            "<<<------------------------------------------->>>\n",
            "<<<------------------------------------------->>>\n",
            "<<<------------------------------------------->>>\n"
          ],
          "name": "stdout"
        }
      ]
    },
    {
      "cell_type": "code",
      "metadata": {
        "id": "l6HCLHuAZgQ_",
        "colab_type": "code",
        "colab": {}
      },
      "source": [
        "lista = [1, 10, 2, 10, 3, 10, 4, 5, 6]\n",
        "cont = 0\n",
        "for i in range(len(lista)):\n",
        "  print(cont)\n",
        "  if lista[i] == 10:\n",
        "    cont +=1\n",
        "print(cont) "
      ],
      "execution_count": 0,
      "outputs": []
    },
    {
      "cell_type": "code",
      "metadata": {
        "colab_type": "code",
        "outputId": "447bf09b-4e92-41f3-bc5d-f2e2b232d864",
        "id": "nMqXgzlP9_AD",
        "colab": {
          "base_uri": "https://localhost:8080/",
          "height": 119
        }
      },
      "source": [
        "# https://www.devmedia.com.br/como-trabalhar-com-listas-em-python/37460\n",
        "a=[1,2,3,4]\n",
        "b=[5,6,7,8]\n",
        "a.append(15)\n",
        "a.insert(3,'er') # o primeiro item do metodo é a posição na lista e segundo é o item que vai ser adicionado\n",
        "7 in b # verifica se 7 tem ana lista b e retorna um booleano\n",
        "\n",
        "print(\"......\",a)\n",
        "print(min(b), ' é o menor valor da lista')\n",
        "print(max(b), 'e o maior valor da lista')\n",
        "\n",
        "print('<<<----------------->>>')\n",
        "valor=int(input('digite um valor inteiro: '))\n",
        "x = valor in b\n",
        "if x == True:\n",
        "  print('esse valor: %d existe na lista'%valor)\n",
        "else:\n",
        "  print('esse valor %d não existe na lista'%valor)  \n",
        "\n",
        "\n"
      ],
      "execution_count": 70,
      "outputs": [
        {
          "output_type": "stream",
          "text": [
            "...... [1, 2, 3, 'er', 4, 15]\n",
            "5  é o menor valor da lista\n",
            "8 e o maior valor da lista\n",
            "<<<----------------->>>\n",
            "digite um valor inteiro: 2\n",
            "esse valor 2 não existe na lista\n"
          ],
          "name": "stdout"
        }
      ]
    }
  ]
}