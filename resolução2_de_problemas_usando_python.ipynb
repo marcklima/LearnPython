{
  "nbformat": 4,
  "nbformat_minor": 0,
  "metadata": {
    "colab": {
      "name": "resolução2 de problemas usando python",
      "provenance": [],
      "collapsed_sections": [],
      "mount_file_id": "1v2f6f-P8BDscsRxXO1l_2tNGt5HZJ7lP",
      "authorship_tag": "ABX9TyMdi+tImx+45CzX+xiZQn4K",
      "include_colab_link": true
    },
    "kernelspec": {
      "name": "python3",
      "display_name": "Python 3"
    }
  },
  "cells": [
    {
      "cell_type": "markdown",
      "metadata": {
        "id": "view-in-github",
        "colab_type": "text"
      },
      "source": [
        "<a href=\"https://colab.research.google.com/github/marcklima/LearnPython/blob/master/resolu%C3%A7%C3%A3o2_de_problemas_usando_python.ipynb\" target=\"_parent\"><img src=\"https://colab.research.google.com/assets/colab-badge.svg\" alt=\"Open In Colab\"/></a>"
      ]
    },
    {
      "cell_type": "code",
      "metadata": {
        "id": "dvPGNcMO_lzm",
        "colab_type": "code",
        "colab": {
          "base_uri": "https://localhost:8080/",
          "height": 88
        },
        "outputId": "84c40b07-9536-4450-ac30-efd3b0225089"
      },
      "source": [
        "\n",
        "# ttps://python.nilo.pro.br/listagem/capitulo%2007/listagem-07-02.html\n",
        "minha_lista=[1,2,3,4,5,6,7,8,9,10]\n",
        "x=[minha_lista]*2\n",
        "z=['cabelo solto e lindo']\n",
        "u='p'\n",
        "\n",
        "a=str(10)\n",
        "print (a*3)\n",
        "print(z) \n",
        "print(x)"
      ],
      "execution_count": 23,
      "outputs": [
        {
          "output_type": "stream",
          "text": [
            "101010\n",
            "['cabelo solto e lindo']\n",
            "[[1, 2, 3, 4, 5, 6, 7, 8, 9, 10], [1, 2, 3, 4, 5, 6, 7, 8, 9, 10], [1, 2, 3, 4, 5, 6, 7, 8, 9, 10], [1, 2, 3, 4, 5, 6, 7, 8, 9, 10], [1, 2, 3, 4, 5, 6, 7, 8, 9, 10]]\n"
          ],
          "name": "stdout"
        }
      ]
    },
    {
      "cell_type": "code",
      "metadata": {
        "id": "zAXS2VrkIBCQ",
        "colab_type": "code",
        "colab": {
          "base_uri": "https://localhost:8080/",
          "height": 51
        },
        "outputId": "835bcd98-8a49-4648-8264-fd842db72a96"
      },
      "source": [
        "minhaLista = [1,2,3,4]\n",
        "A = [minhaLista]*3\n",
        "print(A)\n",
        "minhaLista[2]=45\n",
        "print(A)"
      ],
      "execution_count": 24,
      "outputs": [
        {
          "output_type": "stream",
          "text": [
            "[[1, 2, 3, 4], [1, 2, 3, 4], [1, 2, 3, 4]]\n",
            "[[1, 2, 45, 4], [1, 2, 45, 4], [1, 2, 45, 4]]\n"
          ],
          "name": "stdout"
        }
      ]
    }
  ]
}