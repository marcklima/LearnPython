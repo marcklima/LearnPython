{
  "nbformat": 4,
  "nbformat_minor": 0,
  "metadata": {
    "colab": {
      "name": "numerologia",
      "provenance": [],
      "collapsed_sections": [],
      "authorship_tag": "ABX9TyM5tgvYi9B4xvNoBQwpD2pS",
      "include_colab_link": true
    },
    "kernelspec": {
      "name": "python3",
      "display_name": "Python 3"
    }
  },
  "cells": [
    {
      "cell_type": "markdown",
      "metadata": {
        "id": "view-in-github",
        "colab_type": "text"
      },
      "source": [
        "<a href=\"https://colab.research.google.com/github/marcklima/LearnPython/blob/master/numerologia.ipynb\" target=\"_parent\"><img src=\"https://colab.research.google.com/assets/colab-badge.svg\" alt=\"Open In Colab\"/></a>"
      ]
    },
    {
      "cell_type": "code",
      "metadata": {
        "id": "lAoFOwmDkCmi",
        "colab_type": "code",
        "colab": {}
      },
      "source": [
        "### Os números cabalísticos são representados em uma forma básica por meio de uma tabela de números. Ao combinar o nome de batismo com os respectivos valores de cada letra, conseguimos revelar mistérios e qualidades que nem o próprio indivíduo conseguiria imaginar. \n",
        "letras={'a':1, 'b':2, 'c':3,'d':4, 'e':5,'f':6,'g':7, 'h':8, 'i':9,'j':9,'k':10,'l':20,'m':30, 'n':40, 'o':50,'p':60, 'q':70, 'r':80, 's':80,'t':100, 'u':200, 'v':200, 'w':200, 'x':300,'y':9,'z':400}\n",
        "r=open('numerologia.py','r')"
      ],
      "execution_count": 0,
      "outputs": []
    }
  ]
}