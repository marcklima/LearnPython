{
  "nbformat": 4,
  "nbformat_minor": 0,
  "metadata": {
    "colab": {
      "name": "Untitled0.ipynb",
      "provenance": [],
      "toc_visible": true,
      "authorship_tag": "ABX9TyOqqmPGZG1yCII4Kov0+onB",
      "include_colab_link": true
    },
    "kernelspec": {
      "name": "python3",
      "display_name": "Python 3"
    }
  },
  "cells": [
    {
      "cell_type": "markdown",
      "metadata": {
        "id": "view-in-github",
        "colab_type": "text"
      },
      "source": [
        "<a href=\"https://colab.research.google.com/github/marcklima/LearnPython/blob/master/Untitled0.ipynb\" target=\"_parent\"><img src=\"https://colab.research.google.com/assets/colab-badge.svg\" alt=\"Open In Colab\"/></a>"
      ]
    },
    {
      "cell_type": "code",
      "metadata": {
        "id": "g4o4RsfKnCrj",
        "colab_type": "code",
        "outputId": "1b67650c-65c9-4928-a27a-56ec3ebd17e4",
        "colab": {
          "base_uri": "https://localhost:8080/",
          "height": 68
        }
      },
      "source": [
        "#  par i na lista 254,654,378,798\n",
        "for i in[254,654,378,798]:\n",
        "  # se o resto dividindo por 3 for igual a zero:\n",
        "  if i % 3 == 0:\n",
        "    # imprima\n",
        "    print(i,'/3=', i/3)\n"
      ],
      "execution_count": 5,
      "outputs": [
        {
          "output_type": "stream",
          "text": [
            "654 /3= 218.0\n",
            "378 /3= 126.0\n",
            "798 /3= 266.0\n"
          ],
          "name": "stdout"
        }
      ]
    },
    {
      "cell_type": "code",
      "metadata": {
        "id": "RQtto7e7nZAa",
        "colab_type": "code",
        "colab": {
          "base_uri": "https://localhost:8080/",
          "height": 340
        },
        "outputId": "f907de55-8cd3-4459-ad91-61ba146cad11"
      },
      "source": [
        "for i in[10,20,30,40,50,60,70,80,90,100]:\n",
        "  if i < 100:\n",
        "    print(' o valor de i é %d e valo binario é: '%i, bin(i))\n",
        "    print(i.conjugate(),' o numero %d precisa de, '%i,i.bit_length(), 'numeros decimais para representa-lo')\n",
        "bin(i)\n"
      ],
      "execution_count": 17,
      "outputs": [
        {
          "output_type": "stream",
          "text": [
            " o valor de i é 10 e valo binario é:  0b1010\n",
            "10  o numero 10 precisa de,  4 numeros decimais para representa-lo\n",
            " o valor de i é 20 e valo binario é:  0b10100\n",
            "20  o numero 20 precisa de,  5 numeros decimais para representa-lo\n",
            " o valor de i é 30 e valo binario é:  0b11110\n",
            "30  o numero 30 precisa de,  5 numeros decimais para representa-lo\n",
            " o valor de i é 40 e valo binario é:  0b101000\n",
            "40  o numero 40 precisa de,  6 numeros decimais para representa-lo\n",
            " o valor de i é 50 e valo binario é:  0b110010\n",
            "50  o numero 50 precisa de,  6 numeros decimais para representa-lo\n",
            " o valor de i é 60 e valo binario é:  0b111100\n",
            "60  o numero 60 precisa de,  6 numeros decimais para representa-lo\n",
            " o valor de i é 70 e valo binario é:  0b1000110\n",
            "70  o numero 70 precisa de,  7 numeros decimais para representa-lo\n",
            " o valor de i é 80 e valo binario é:  0b1010000\n",
            "80  o numero 80 precisa de,  7 numeros decimais para representa-lo\n",
            " o valor de i é 90 e valo binario é:  0b1011010\n",
            "90  o numero 90 precisa de,  7 numeros decimais para representa-lo\n"
          ],
          "name": "stdout"
        },
        {
          "output_type": "execute_result",
          "data": {
            "text/plain": [
              "'0b1100100'"
            ]
          },
          "metadata": {
            "tags": []
          },
          "execution_count": 17
        }
      ]
    }
  ]
}