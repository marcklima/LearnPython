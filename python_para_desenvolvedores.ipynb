{
  "nbformat": 4,
  "nbformat_minor": 0,
  "metadata": {
    "colab": {
      "name": "python para desenvolvedores",
      "provenance": [],
      "collapsed_sections": [],
      "toc_visible": true,
      "mount_file_id": "1v2f6f-P8BDscsRxXO1l_2tNGt5HZJ7lP",
      "authorship_tag": "ABX9TyPx06UPhTzAyfmJinly5q6f",
      "include_colab_link": true
    },
    "kernelspec": {
      "name": "python3",
      "display_name": "Python 3"
    }
  },
  "cells": [
    {
      "cell_type": "markdown",
      "metadata": {
        "id": "view-in-github",
        "colab_type": "text"
      },
      "source": [
        "<a href=\"https://colab.research.google.com/github/marcklima/LearnPython/blob/master/python_para_desenvolvedores.ipynb\" target=\"_parent\"><img src=\"https://colab.research.google.com/assets/colab-badge.svg\" alt=\"Open In Colab\"/></a>"
      ]
    },
    {
      "cell_type": "code",
      "metadata": {
        "id": "JrrNwO2fiiFU",
        "colab_type": "code",
        "outputId": "7f0b5d4b-0e13-4899-bf60-f3f958d20efc",
        "colab": {
          "base_uri": "https://localhost:8080/",
          "height": 34
        }
      },
      "source": [
        "x='python'\n",
        "print(x[:1])"
      ],
      "execution_count": 0,
      "outputs": [
        {
          "output_type": "stream",
          "text": [
            "p\n"
          ],
          "name": "stdout"
        }
      ]
    },
    {
      "cell_type": "code",
      "metadata": {
        "id": "CNAhoX-JEsXh",
        "colab_type": "code",
        "colab": {}
      },
      "source": [
        "# pagina 32\n",
        "\n",
        "#convertedo de real para inteiro\n",
        "print('convertendo real para inteiro',int(3.14))\n",
        "\n",
        "#convertendo inteiro para real\n",
        "print('convertendo real para inteiro', float(3))\n",
        "\n",
        "#calculando inteiro e ral e resultado real\n",
        "valorReal = 123.456789\n",
        "valorInteiro = 987\n",
        "print('calculando valor inteiro - com real-', valorInteiro+valorReal)\n",
        "print('um calculo de inteiro com real, o resultado é real')\n",
        "\n",
        "print('inteiros com outra base', int('20',8))#base 8\n",
        "print ('interiro com base 16', int('20', 16))\n",
        "print ('o valor de valorInteiro em real é: ', valorInteiro.real)\n",
        "\n",
        "#operações com numeros complexos\n",
        "c=3+4j\n",
        "print('c=',c)\n",
        "print('o valor de c: ', c)\n",
        "print('o valor de c real:',c.real)"
      ],
      "execution_count": 0,
      "outputs": []
    }
  ]
}